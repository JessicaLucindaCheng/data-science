{
 "cells": [
  {
   "cell_type": "code",
   "execution_count": 1,
   "id": "1e3955d0-888d-49a8-b20e-4681ff735515",
   "metadata": {},
   "outputs": [
    {
     "ename": "ModuleNotFoundError",
     "evalue": "No module named 'pandas'",
     "output_type": "error",
     "traceback": [
      "\u001b[0;31m------------------------------------------------------\u001b[0m",
      "\u001b[0;31mModuleNotFoundError\u001b[0m  Traceback (most recent call last)",
      "\u001b[0;32m<ipython-input-1-7dd3504c366f>\u001b[0m in \u001b[0;36m<module>\u001b[0;34m\u001b[0m\n\u001b[0;32m----> 1\u001b[0;31m \u001b[0;32mimport\u001b[0m \u001b[0mpandas\u001b[0m \u001b[0;32mas\u001b[0m \u001b[0mpd\u001b[0m\u001b[0;34m\u001b[0m\u001b[0;34m\u001b[0m\u001b[0m\n\u001b[0m",
      "\u001b[0;31mModuleNotFoundError\u001b[0m: No module named 'pandas'"
     ]
    }
   ],
   "source": [
    "import pandas as pdfrom geopy.geocoders import Nominatim"
   ]
  },
  {
   "cell_type": "code",
   "execution_count": 2,
   "id": "7dde46c2-e0a2-4ce8-92ce-92d5d6dd7aa9",
   "metadata": {},
   "outputs": [],
   "source": [
    "df = pd.read_csv('csvfiles/cityla_merged_v3.csv')\n"
   ]
  },
  {
   "cell_type": "code",
   "execution_count": 3,
   "id": "a69cb779-0736-4e3b-965a-1822d41b6e30",
   "metadata": {},
   "outputs": [
    {
     "data": {
      "text/html": [
       "<div>\n",
       "<style scoped>\n",
       "    .dataframe tbody tr th:only-of-type {\n",
       "        vertical-align: middle;\n",
       "    }\n",
       "\n",
       "    .dataframe tbody tr th {\n",
       "        vertical-align: top;\n",
       "    }\n",
       "\n",
       "    .dataframe thead th {\n",
       "        text-align: right;\n",
       "    }\n",
       "</style>\n",
       "<table border=\"1\" class=\"dataframe\">\n",
       "  <thead>\n",
       "    <tr style=\"text-align: right;\">\n",
       "      <th></th>\n",
       "      <th>Registration Number</th>\n",
       "      <th>Registered Adddress</th>\n",
       "      <th>Registered Unit Number</th>\n",
       "      <th>Permit Holder Name 1</th>\n",
       "      <th>Platforms Reported at Application</th>\n",
       "      <th>city</th>\n",
       "      <th>holder_name_list</th>\n",
       "      <th>first_name</th>\n",
       "    </tr>\n",
       "  </thead>\n",
       "  <tbody>\n",
       "    <tr>\n",
       "      <th>0</th>\n",
       "      <td>hsr19-000002</td>\n",
       "      <td>56 ozone ave, venice, ca 90291, usa</td>\n",
       "      <td>NaN</td>\n",
       "      <td>chantel huntermah</td>\n",
       "      <td>NaN</td>\n",
       "      <td>venice</td>\n",
       "      <td>['chantel', 'huntermah']</td>\n",
       "      <td>chantel</td>\n",
       "    </tr>\n",
       "    <tr>\n",
       "      <th>1</th>\n",
       "      <td>hsr19-000007</td>\n",
       "      <td>752 w athens blvd, los angeles, ca 90044, usa</td>\n",
       "      <td>NaN</td>\n",
       "      <td>rodolfo lara</td>\n",
       "      <td>NaN</td>\n",
       "      <td>los angeles</td>\n",
       "      <td>['rodolfo', 'lara']</td>\n",
       "      <td>rodolfo</td>\n",
       "    </tr>\n",
       "    <tr>\n",
       "      <th>2</th>\n",
       "      <td>hsr19-000023</td>\n",
       "      <td>6776 milner rd, los angeles, ca 90068, usa</td>\n",
       "      <td>NaN</td>\n",
       "      <td>nicolas risherpaul</td>\n",
       "      <td>NaN</td>\n",
       "      <td>los angeles</td>\n",
       "      <td>['nicolas', 'risherpaul']</td>\n",
       "      <td>nicolas</td>\n",
       "    </tr>\n",
       "    <tr>\n",
       "      <th>3</th>\n",
       "      <td>hsr19-000032</td>\n",
       "      <td>5930 echo st, los angeles, ca 90042, usa</td>\n",
       "      <td>NaN</td>\n",
       "      <td>susan carpenter</td>\n",
       "      <td>NaN</td>\n",
       "      <td>los angeles</td>\n",
       "      <td>['susan', 'carpenter']</td>\n",
       "      <td>susan</td>\n",
       "    </tr>\n",
       "    <tr>\n",
       "      <th>4</th>\n",
       "      <td>hsr19-000043</td>\n",
       "      <td>5922 barton ave, los angeles, ca 90038, usa</td>\n",
       "      <td>NaN</td>\n",
       "      <td>harold boling -</td>\n",
       "      <td>NaN</td>\n",
       "      <td>los angeles</td>\n",
       "      <td>['harold', 'boling', '-']</td>\n",
       "      <td>harold</td>\n",
       "    </tr>\n",
       "  </tbody>\n",
       "</table>\n",
       "</div>"
      ],
      "text/plain": [
       "  Registration Number                            Registered Adddress  \\\n",
       "0        hsr19-000002            56 ozone ave, venice, ca 90291, usa   \n",
       "1        hsr19-000007  752 w athens blvd, los angeles, ca 90044, usa   \n",
       "2        hsr19-000023     6776 milner rd, los angeles, ca 90068, usa   \n",
       "3        hsr19-000032       5930 echo st, los angeles, ca 90042, usa   \n",
       "4        hsr19-000043    5922 barton ave, los angeles, ca 90038, usa   \n",
       "\n",
       "  Registered Unit Number Permit Holder Name 1   \\\n",
       "0                    NaN     chantel huntermah   \n",
       "1                    NaN          rodolfo lara   \n",
       "2                    NaN    nicolas risherpaul   \n",
       "3                    NaN       susan carpenter   \n",
       "4                    NaN       harold boling -   \n",
       "\n",
       "  Platforms Reported at Application         city           holder_name_list  \\\n",
       "0                               NaN       venice   ['chantel', 'huntermah']   \n",
       "1                               NaN  los angeles        ['rodolfo', 'lara']   \n",
       "2                               NaN  los angeles  ['nicolas', 'risherpaul']   \n",
       "3                               NaN  los angeles     ['susan', 'carpenter']   \n",
       "4                               NaN  los angeles  ['harold', 'boling', '-']   \n",
       "\n",
       "  first_name  \n",
       "0    chantel  \n",
       "1    rodolfo  \n",
       "2    nicolas  \n",
       "3      susan  \n",
       "4     harold  "
      ]
     },
     "execution_count": 3,
     "metadata": {},
     "output_type": "execute_result"
    }
   ],
   "source": [
    "df.head()"
   ]
  },
  {
   "cell_type": "code",
   "execution_count": null,
   "id": "e20abeac-8c6a-4e1c-a314-297c94ee0648",
   "metadata": {},
   "outputs": [],
   "source": []
  }
 ],
 "metadata": {
  "kernelspec": {
   "display_name": "Python 3",
   "language": "python",
   "name": "python3"
  },
  "language_info": {
   "codemirror_mode": {
    "name": "ipython",
    "version": 3
   },
   "file_extension": ".py",
   "mimetype": "text/x-python",
   "name": "python",
   "nbconvert_exporter": "python",
   "pygments_lexer": "ipython3",
   "version": "3.8.5"
  }
 },
 "nbformat": 4,
 "nbformat_minor": 5
}
