{
 "metadata": {
  "language_info": {
   "codemirror_mode": {
    "name": "ipython",
    "version": 3
   },
   "file_extension": ".py",
   "mimetype": "text/x-python",
   "name": "python",
   "nbconvert_exporter": "python",
   "pygments_lexer": "ipython3",
   "version": "3.8.1"
  },
  "orig_nbformat": 2,
  "kernelspec": {
   "name": "python381jvsc74a57bd0021c0ff7babdd78dcf1d264e8c76199d3d723a312b5a0fe9bc60f5394c2d1ecd",
   "display_name": "Python 3.8.1 64-bit ('pedvenv': venv)"
  }
 },
 "nbformat": 4,
 "nbformat_minor": 2,
 "cells": [
  {
   "source": [
    "# Download the latest data\n",
    "There are up to four calls that need to be made to download or update the pedestrian safety data.\n",
    "- Mapillary's road data\n",
    "- Mapillary's signage data\n",
    "- LAPD's collision data\n",
    "- The neighborhood council boundaries shapefile"
   ],
   "cell_type": "markdown",
   "metadata": {}
  },
  {
   "cell_type": "code",
   "execution_count": 1,
   "metadata": {},
   "outputs": [],
   "source": [
    "import configparser\n",
    "import pandas as pd\n",
    "import datetime\n",
    "import os\n",
    "import sys\n",
    "\n",
    "# Load the mapillary client module\n",
    "try:\n",
    "    os.chdir(os.path.dirname(os.path.realpath(__file__)))\n",
    "except:\n",
    "    pass\n",
    "mapillarywrapperdir = '../../311-data/mapillarywrapper/'\n",
    "sys.path.append(mapillarywrapperdir)\n",
    "from mapillarywrapper.client import client\n",
    "\n",
    "\n",
    "config = configparser.ConfigParser()\n",
    "config.read(mapillarywrapperdir + 'mapillary.cfg')\n",
    "CLIENT_ID = config['CLIENT-ID']['CLIENT_ID']\n",
    "mapillaryclient = client.MapClient(CLIENT_ID)\n",
    "\n"
   ]
  },
  {
   "source": [
    "Set the save locations of the raw data csv files."
   ],
   "cell_type": "markdown",
   "metadata": {}
  },
  {
   "cell_type": "code",
   "execution_count": 2,
   "metadata": {},
   "outputs": [],
   "source": [
    "rawdatadir = '../Data/1-raw-data/'\n",
    "rawroaddatacsv = rawdatadir + 'raw-road-data.csv'\n",
    "rawsigndatacsv = rawdatadir + 'raw-sign-data.csv'\n",
    "rawcollisiondatacsv = rawdatadir + 'raw-collision-data.csv'\n",
    "neighborhoodcouncilshapes = rawdatadir + 'neighborhoodcouncils.geojson'"
   ]
  },
  {
   "source": [
    "## Bounding box\n",
    "\n",
    "This is the latitude/longitude box that encompasses the City of LA according to https://boundingbox.klokantech.com"
   ],
   "cell_type": "markdown",
   "metadata": {}
  },
  {
   "cell_type": "code",
   "execution_count": 3,
   "metadata": {},
   "outputs": [],
   "source": [
    "laLowerLeft = [33.703622, -118.668187]\n",
    "laUpperRight = [34.337306, -118.155295]"
   ]
  },
  {
   "source": [
    "## Merging method\n",
    "This will combine dataframes of the same dataset downloaded at different times or with different filters."
   ],
   "cell_type": "markdown",
   "metadata": {}
  },
  {
   "cell_type": "code",
   "execution_count": 4,
   "metadata": {},
   "outputs": [],
   "source": [
    "def combinedataframes(\n",
    "    leftdf: pd.DataFrame, rightdf: pd.DataFrame, keycolumn: str\n",
    "):\n",
    "  \"\"\"Combine dataframes of the same dataset downloaded at different times or with different filters.\"\"\"\n",
    "\n",
    "  # Use the keycolumn as the index with a different name, to differentiate them.\n",
    "  leftreindexed = leftdf.set_index(keycolumn, drop=False)\n",
    "  leftreindexed.index.name = 'indexkeys'\n",
    "  rightreindexed = rightdf.set_index(keycolumn, drop=False)\n",
    "  rightreindexed.index.name = 'indexkeys'\n",
    "\n",
    "  # Merge the keys, creating empty key-only rows for all new data\n",
    "  allrows = leftreindexed.merge(\n",
    "      rightreindexed[keycolumn], left_index=True, right_index=True, how='outer'\n",
    "  ).drop(columns=[keycolumn + '_x', keycolumn + '_y'])\n",
    "\n",
    "  # Update all rows with the newest data\n",
    "  allrows.update(rightreindexed)\n",
    "  \n",
    "  # copy the keys from the index back into a regular column\n",
    "  allrows[keycolumn] = allrows.index\n",
    "  allrows.reset_index(drop=True, inplace=True)\n",
    "  return allrows\n",
    "\n",
    "\n"
   ]
  },
  {
   "source": [
    "# Download data from mapillary\n",
    "If mapillary data is saved locally, download the latest. If it isn't, download everything."
   ],
   "cell_type": "markdown",
   "metadata": {}
  },
  {
   "cell_type": "code",
   "execution_count": 5,
   "metadata": {},
   "outputs": [
    {
     "output_type": "stream",
     "name": "stdout",
     "text": [
      "Requesting data from Mapillary API\n",
      "https://a.mapillary.com/v3/map_features?layers=points&bbox=-118.668187,33.703622,-118.155295,34.337306&start_last_seen_at=2021-06-01T23:47:32.611Z&per_page=1000&client_id=c1hsc1BzRGY2ZXBQR1FCY1JIaUJRQTpjOTZmZThjNjkwYmI5MTQx&sort_by=key\n",
      "Pages found (with up to 1000 results per page):\n",
      "1\n",
      "Pages of results loaded:\n",
      "1\n",
      "saved to ../Data/1-raw-data/raw-road-data.csv\n",
      "Requesting data from Mapillary API\n",
      "https://a.mapillary.com/v3/map_features?layers=trafficsigns&bbox=-118.668187,33.703622,-118.155295,34.337306&start_last_seen_at=2021-06-01T23:45:25.561Z&per_page=1000&client_id=c1hsc1BzRGY2ZXBQR1FCY1JIaUJRQTpjOTZmZThjNjkwYmI5MTQx&sort_by=key\n",
      "Pages found (with up to 1000 results per page):\n",
      "1\n",
      "Pages of results loaded:\n",
      "1\n",
      "saved to ../Data/1-raw-data/raw-sign-data.csv\n"
     ]
    }
   ],
   "source": [
    "def frommapillarydateformat(isostring: str):\n",
    "  return datetime.datetime.fromisoformat(isostring.strip('Z'))\n",
    "\n",
    "\n",
    "def tomapillarydateformat(dt: datetime.datetime):\n",
    "  return dt.isoformat('T', 'milliseconds') + 'Z'\n",
    "\n",
    "for [mapillarylayer, csvlocation] in [\n",
    "  ['points', rawroaddatacsv], ['trafficsigns', rawsigndatacsv]\n",
    "]:\n",
    "  savefileexists = os.path.isfile(csvlocation)\n",
    "  if savefileexists:\n",
    "    previousdownload = pd.read_csv(csvlocation)\n",
    "    previousdownload['last_seen_at']\n",
    "    mostrecentdata = previousdownload['last_seen_at'].map(\n",
    "      frommapillarydateformat\n",
    "    ).max()\n",
    "    datacutoffdate = mostrecentdata - datetime.timedelta(days=7)\n",
    "\n",
    "    newmapillarydata = pd.DataFrame(\n",
    "      mapillaryclient.trafficinfo(\n",
    "        laLowerLeft,\n",
    "        laUpperRight,\n",
    "        perpage=1000,\n",
    "        layer=mapillarylayer,\n",
    "        startlastseenat=tomapillarydateformat(datacutoffdate.to_pydatetime())\n",
    "      )\n",
    "    )\n",
    "\n",
    "    fulldataset = combinedataframes(previousdownload, newmapillarydata, 'key')\n",
    "\n",
    "  else:\n",
    "    fulldataset = pd.DataFrame(\n",
    "      mapillaryclient.trafficinfo(\n",
    "        laLowerLeft,\n",
    "        laUpperRight,\n",
    "        perpage=1000,\n",
    "        layer=mapillarylayer,\n",
    "      )\n",
    "    )\n",
    "\n",
    "  fulldataset.to_csv(csvlocation, index=False)\n",
    "  print(f'saved to {csvlocation}')"
   ]
  },
  {
   "source": [
    "# Download LAPD Traffic collision data\n",
    "tk"
   ],
   "cell_type": "markdown",
   "metadata": {}
  },
  {
   "cell_type": "code",
   "execution_count": null,
   "metadata": {},
   "outputs": [],
   "source": []
  },
  {
   "cell_type": "code",
   "execution_count": null,
   "metadata": {},
   "outputs": [],
   "source": []
  }
 ]
}