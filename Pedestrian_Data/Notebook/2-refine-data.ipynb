{
 "metadata": {
  "language_info": {
   "codemirror_mode": {
    "name": "ipython",
    "version": 3
   },
   "file_extension": ".py",
   "mimetype": "text/x-python",
   "name": "python",
   "nbconvert_exporter": "python",
   "pygments_lexer": "ipython3",
   "version": "3.8.1"
  },
  "orig_nbformat": 2,
  "kernelspec": {
   "name": "python3",
   "display_name": "Python 3.8.1 64-bit ('pedvenv': venv)"
  },
  "interpreter": {
   "hash": "021c0ff7babdd78dcf1d264e8c76199d3d723a312b5a0fe9bc60f5394c2d1ecd"
  }
 },
 "nbformat": 4,
 "nbformat_minor": 2,
 "cells": [
  {
   "cell_type": "markdown",
   "source": [
    "# Refining data\n",
    "Filtering and parsing the raw csv files, saving new smaller and better formatted CSV files that will work better with QGIS and other tools.\n",
    "\n",
    "Creating two sets of files:\n",
    "\n",
    "### 1. Relevant Data Only\n",
    "- Paring away anything not related to pedestrian and bike safety\n",
    "- Matching neighborhood councils to each GPS coordinate\n",
    "### 2. QGIS-friendly files\n",
    "- Even smaller, restricted to just Wilshire NC area and slightly beyond, for performance.\n",
    "- Contains the geometry fields QGIS needs.\n"
   ],
   "metadata": {}
  },
  {
   "cell_type": "markdown",
   "source": [
    "## Workbook setup\n",
    "Load modules, identify file and directory locations, define useful methods"
   ],
   "metadata": {}
  },
  {
   "cell_type": "code",
   "execution_count": null,
   "source": [
    "import pandas as pd\n",
    "import os\n",
    "import geopandas as gpd\n",
    "from sklearn.cluster import DBSCAN\n",
    "\n",
    "try:\n",
    "    os.chdir(os.path.dirname(os.path.realpath(__file__)))\n",
    "except:\n",
    "    pass\n",
    "\n",
    "rawdatadir = '../Data/1-raw-data/'\n",
    "rawroaddatacsv = 'raw-road-data.csv'\n",
    "rawsigndatacsv = 'raw-sign-data.csv'\n",
    "rawcollisiondatacsv = 'raw-collision-data.csv'\n",
    "neighborhoodcouncilshapesgeojson = 'neighborhoodcouncils.geojson'\n",
    "\n",
    "refineddatadir = '../Data/2-refined-data/'"
   ],
   "outputs": [],
   "metadata": {}
  },
  {
   "cell_type": "markdown",
   "source": [
    "### Geography Tools\n",
    "Define methods to:\n",
    "\n",
    "1. Identify which neighborhood council each data row falls under\n",
    "\n",
    "2. Filter rows that are in or near the Wilshire NC."
   ],
   "metadata": {}
  },
  {
   "cell_type": "markdown",
   "source": [
    "#### Identify Councils"
   ],
   "metadata": {}
  },
  {
   "cell_type": "code",
   "execution_count": null,
   "source": [
    "councilshapes = gpd.read_file(rawdatadir + neighborhoodcouncilshapesgeojson)\n",
    "def identifyneighborhoodcouncil(geodataframe: gpd.GeoDataFrame) -> gpd.GeoDataFrame:\n",
    "    return gpd.sjoin(\n",
    "        geodataframe, councilshapes, how=\"left\"\n",
    "    ).rename(\n",
    "        # More descriptive name for the neighborhood council field\n",
    "        columns={'NAME': 'council'}\n",
    "    ).drop(\n",
    "        # Drop the neighborhood council fields we don't need.\n",
    "        columns=[\n",
    "            'index_right',\n",
    "            'OBJECTID',\n",
    "            'WADDRESS',\n",
    "            'DWEBSITE',\n",
    "            'DEMAIL',\n",
    "            'DPHONE',\n",
    "            'NC_ID',\n",
    "            'CERTIFIED',\n",
    "            'TOOLTIP',\n",
    "            'NLA_URL',\n",
    "            'SERVICE_RE'\n",
    "        ]\n",
    "    )"
   ],
   "outputs": [],
   "metadata": {}
  },
  {
   "cell_type": "markdown",
   "source": [
    "#### Filter for only data in Wilshire NC or neighborhing NCs."
   ],
   "metadata": {}
  },
  {
   "cell_type": "code",
   "execution_count": null,
   "source": [
    "def wilshireandadjacent(geodata: gpd.GeoDataFrame):\n",
    "    councilstoinclude = [\n",
    "        'GREATER WILSHIRE NC',\n",
    "        'CENTRAL HOLLYWOOD NC',\n",
    "        'HOLLYWOOD STUDIO DISTRICT NC',\n",
    "        'MID CITY WEST CC',\n",
    "        'OLYMPIC PARK NC',\n",
    "        'P.I.C.O. NC',\n",
    "        'WILSHIRE CENTER - KOREATOWN NC'\n",
    "    ]\n",
    "    indexesofwilshireandadjacentonly = geodata['council'].isin(councilstoinclude)\n",
    "    filteredgeodata = geodata[indexesofwilshireandadjacentonly].copy()\n",
    "    return filteredgeodata"
   ],
   "outputs": [],
   "metadata": {}
  },
  {
   "cell_type": "markdown",
   "source": [
    "# Creating CSV files of most relevant data only"
   ],
   "metadata": {}
  },
  {
   "cell_type": "markdown",
   "source": [
    "## Mapillary files\n",
    "We're limiting this to only the fields relevant to us, and further limiting it to objects assigned specific values by Mapillary relevant to us."
   ],
   "metadata": {}
  },
  {
   "cell_type": "code",
   "execution_count": null,
   "source": [
    "# Columns to keep\n",
    "relevantmapillarycolumns = [\n",
    "  \"last_seen_at\",\n",
    "  \"key\",\n",
    "  \"value\",\n",
    "  \"image_keys\",\n",
    "  \"latitude\",\n",
    "  \"longitude\"\n",
    "]\n",
    "\n",
    "# Physical road feature categories we care about\n",
    "physicalfeaturecategories = [\n",
    "  \"object--traffic-light--pedestrians\",\n",
    "  \"marking--discrete--crosswalk-zebra\",\n",
    "  \"construction--flat--crosswalk-plain\"\n",
    "]\n",
    "\n",
    "# Sign categories we care about\n",
    "signcategories =  [\n",
    "  'regulatory--pedestrians-push-button--g1',\n",
    "  'regulatory--pedestrians-push-button--g2',\n",
    "  'regulatory--bicycles-push-button--g1',\n",
    "  'regulatory--bicycles-push-button--g2',\n",
    "  'regulatory--crosswalk-stop-on-red--g1',\n",
    "  'regulatory--cross-only-on-pedestrian-signal--g1',\n",
    "  'regulatory--cross-only-on-green--g1',\n",
    "  'regulatory--crosswalk-stop-on-red--g1',\n",
    "  'regulatory--use-crosswalk--g1',\n",
    "  'regulatory--in-street-pedestrian-crossing--g1',\n",
    "  'regulatory--turning-vehicles-yield-to-pedestrians--g1',\n",
    "  'regulatory--stop-here-on-red-or-flashing-light--g1',\n",
    "  'regulatory--stop-here-on-red-or-flashing-light--g2',\n",
    "  'regulatory--pedestrians-priority-zone--g1',\n",
    "  'warning--pedestrians-crossing--g4'\n",
    "]"
   ],
   "outputs": [],
   "metadata": {}
  },
  {
   "cell_type": "markdown",
   "source": [
    "### Create filtered and reorganized files of Mapillary data"
   ],
   "metadata": {}
  },
  {
   "cell_type": "code",
   "execution_count": null,
   "source": [
    "for [mapillarycsv, categories] in [\n",
    "    [rawroaddatacsv, physicalfeaturecategories],\n",
    "    [rawsigndatacsv, signcategories,]\n",
    "]:\n",
    "    # Filter only the relevant rows and columns\n",
    "    rawdata = pd.read_csv(\n",
    "        rawdatadir + mapillarycsv,\n",
    "        usecols=relevantmapillarycolumns,\n",
    "        converters={\n",
    "            'last_seen_at': pd.to_datetime,\n",
    "            'first_seen_at': pd.to_datetime\n",
    "        }\n",
    "    )\n",
    "    relevantrowindexes = rawdata['value'].isin(categories)\n",
    "    filtereddata = rawdata[relevantrowindexes]\n",
    "\n",
    "    # Join with neighborhood council shapefile to add NC to rows\n",
    "    filteredgeoframe = gpd.GeoDataFrame(\n",
    "        filtereddata,\n",
    "        geometry=gpd.points_from_xy(\n",
    "            filtereddata['longitude'], filtereddata['latitude'], crs=\"epsg:4326\"\n",
    "        ),\n",
    "        crs=\"epsg:4326\"\n",
    "    )\n",
    "    filteredwcouncils = identifyneighborhoodcouncil(filteredgeoframe)\n",
    "\n",
    "    # Save file of pedestrian-relevant data only\n",
    "    filteredfilelocation = refineddatadir + mapillarycsv.replace('raw', 'refined')\n",
    "    filteredwcouncils.to_csv(filteredfilelocation, index=False)\n",
    "    print(f'Saved {len(filteredwcouncils)} filtered rows (of {len(rawdata)}) to {filteredfilelocation}')\n",
    "\n",
    "    # Further filter for QGIS\n",
    "    wilshireandadjacentonly = wilshireandadjacent(filteredwcouncils)\n",
    "\n",
    "    # save QGIS file\n",
    "    qgisfilelocation = refineddatadir + mapillarycsv.replace('raw', 'qgis')\n",
    "    wilshireandadjacentonly.to_csv(qgisfilelocation, index=False)\n",
    "    print(f'Saved {len(wilshireandadjacentonly)} rows near Wilshire to {qgisfilelocation}')\n",
    "\n",
    "\n",
    "\n"
   ],
   "outputs": [],
   "metadata": {}
  },
  {
   "cell_type": "markdown",
   "source": [
    "## Collision Data\n",
    "We're filtering for only collisions assigned the following MO Codes by LAPD:\n",
    "- 3003 (Veh vs Ped)\n",
    "- 3008 (Veh vs Bike)\n",
    "- 3016 (Bike vs Veh)\n",
    "- 3501 (Ped Actions)"
   ],
   "metadata": {}
  },
  {
   "cell_type": "code",
   "execution_count": null,
   "source": [
    "relevantmocodes = {\n",
    "    '3003': 'Veh vs Ped',\n",
    "    '3008': 'Veh vs Bike',\n",
    "    '3016': 'Bike vs Veh',\n",
    "    '3501': 'Ped Actions'\n",
    "}\n",
    "relevantcolumns = [\n",
    "    'dr_no',\n",
    "    'date_rptd',\n",
    "    'date_occ',\n",
    "    'time_occ',\n",
    "    'mocodes',\n",
    "    'vict_age',\n",
    "    'vict_sex',\n",
    "    'premis_desc',\n",
    "    'location',\n",
    "    'cross_street',\n",
    "    'location_1',\n",
    "    ':id'\n",
    "]"
   ],
   "outputs": [],
   "metadata": {}
  },
  {
   "cell_type": "code",
   "execution_count": null,
   "source": [
    "rawcollisiondata = pd.read_csv(\n",
    "    rawdatadir + rawcollisiondatacsv,\n",
    "    usecols=relevantcolumns,\n",
    "    parse_dates=['date_rptd', 'date_occ'],\n",
    "    na_filter=False,\n",
    ")\n",
    "\n",
    "\n",
    "# Filter for only rows with matching MO Codes\n",
    "relevantMOcodesrowindexes = rawcollisiondata['mocodes'].str.contains(\n",
    "    '|'.join(relevantmocodes)\n",
    ")\n",
    "filteredcollisiondata = rawcollisiondata[relevantMOcodesrowindexes].copy()\n",
    "\n",
    "# Make a True/False column for each relevant MO code\n",
    "for mo in relevantmocodes:\n",
    "  modescription = relevantmocodes[mo]\n",
    "  filteredcollisiondata[modescription] = filteredcollisiondata['mocodes'].str.contains(mo)\n",
    "\n",
    "# Parse the time occurred field, combine it with date_occ into a single datetime field\n",
    "hours = pd.to_timedelta((filteredcollisiondata['time_occ'] / 100).astype(int), unit=\"hours\")\n",
    "minutes = pd.to_timedelta(filteredcollisiondata['time_occ'] % 100, unit=\"minutes\")\n",
    "filteredcollisiondata['date_occ'] = filteredcollisiondata['date_occ'] + hours + minutes\n",
    "filteredcollisiondata.drop(columns='time_occ', inplace=True)\n",
    "\n",
    "\n",
    "# Replace the the strangely formatted location column with separate latitude and longitude columns\n",
    "filteredcollisiondata[['latitude', 'longitude']] = filteredcollisiondata[\n",
    "    'location_1'\n",
    "].str.strip('\\n ,()').str.split(', ', expand=True).apply(pd.to_numeric)\n",
    "filteredcollisiondata.drop(['location_1'], axis=1, inplace=True)\n",
    "\n",
    "# Create a geodataframe of collisions\n",
    "collisiongeoframe = gpd.GeoDataFrame(\n",
    "    filteredcollisiondata,\n",
    "    geometry=gpd.points_from_xy(\n",
    "        filteredcollisiondata['longitude'], filteredcollisiondata['latitude'], crs=\"epsg:4326\"\n",
    "    ),\n",
    "    crs=\"epsg:4326\"\n",
    ")\n",
    "\n",
    "# add the neighborhood council info to the collision dataframe\n",
    "collisionswithcouncils = identifyneighborhoodcouncil(collisiongeoframe)\n",
    "\n",
    "# Identify clusters of datapoints\n",
    "# (the dataset is clustered around intersections, so this essentially allows grouping by nearest intersection.)\n",
    "collisionswithcouncils['cluster'] = DBSCAN(eps=.0006, min_samples=1).fit(\n",
    "  collisionswithcouncils[['longitude', 'latitude']]\n",
    ").labels_\n",
    "\n",
    "\n",
    "# Save file of most relevant collision data only\n",
    "refinedcollisiondatacsvlocation = refineddatadir + rawcollisiondatacsv.replace('raw', 'refined')\n",
    "collisionswithcouncils.to_csv(\n",
    "    refinedcollisiondatacsvlocation,\n",
    "    index=False\n",
    ")\n",
    "print(\n",
    "    f'Saved {len(collisionswithcouncils)} rows (of {len(rawcollisiondata)}) to {refinedcollisiondatacsvlocation}'\n",
    ")\n",
    "\n",
    "# Filter further to only the data needed for QGIS\n",
    "qgiscollisiondata = wilshireandadjacent(collisionswithcouncils)\n",
    "\n",
    "# Save QGIS file\n",
    "qgiscollisiondatacsvlocation = refineddatadir + rawcollisiondatacsv.replace('raw', 'qgis')\n",
    "qgiscollisiondata.to_csv(\n",
    "    qgiscollisiondatacsvlocation,\n",
    "    index=False\n",
    ")\n",
    "print(\n",
    "    f'Saved {len(qgiscollisiondata)} rows (of {len(rawcollisiondata)}) to {qgiscollisiondatacsvlocation}'\n",
    ")"
   ],
   "outputs": [],
   "metadata": {}
  }
 ]
}